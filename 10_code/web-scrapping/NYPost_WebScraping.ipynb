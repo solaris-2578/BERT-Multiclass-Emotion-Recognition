{
 "cells": [
  {
   "cell_type": "code",
   "execution_count": 52,
   "metadata": {},
   "outputs": [],
   "source": [
    "from bs4 import BeautifulSoup\n",
    "from urllib.request import urlopen"
   ]
  },
  {
   "cell_type": "code",
   "execution_count": 53,
   "metadata": {},
   "outputs": [],
   "source": [
    "url='https://nypost.com'\n",
    "ihtml=urlopen(url)\n",
    "isoup = BeautifulSoup(ihtml,\"html.parser\")"
   ]
  },
  {
   "cell_type": "code",
   "execution_count": 54,
   "metadata": {},
   "outputs": [],
   "source": [
    "#NEWS\n",
    "\n",
    "a=isoup.find(\"div\",{\"id\":\"news-top-stories\"})\n",
    "a1=a.find(\"div\",{\"class\":\"featured-stories\"})\n",
    "a2=a1.findAll(\"article\")\n",
    "news=[]\n",
    "for i in a2:\n",
    "    #print(i.find(\"h3\").text)\n",
    "    news.append(i.find(\"h3\").text)\n",
    "\n"
   ]
  },
  {
   "cell_type": "code",
   "execution_count": 55,
   "metadata": {},
   "outputs": [],
   "source": [
    "for n in news:\n",
    "    n.replace('\\t','')"
   ]
  },
  {
   "cell_type": "code",
   "execution_count": 56,
   "metadata": {},
   "outputs": [
    {
     "data": {
      "text/plain": [
       "[\"\\n\\t\\t\\t\\t\\t\\t\\t\\tChappelle on SNL: COVID-19 kept 'murderous whites' from mass shootings\\t\\t\\t\\t\\t\\t\\t\",\n",
       " '\\n\\t\\t\\t\\t\\t\\t\\t\\tGlum Trump returns to White House after golf outing amid loss to Biden\\t\\t\\t\\t\\t\\t\\t',\n",
       " \"\\n\\t\\t\\t\\t\\t\\t\\t\\tIt's Joe time! Biden declared president-elect after winning PA\\t\\t\\t\\t\\t\\t\\t\",\n",
       " \"\\n\\t\\t\\t\\t\\t\\t\\t\\t'This isn't over!': Trump supporters refuse to accept defeat\\t\\t\\t\\t\\t\\t\\t\"]"
      ]
     },
     "execution_count": 56,
     "metadata": {},
     "output_type": "execute_result"
    }
   ],
   "source": [
    "news"
   ]
  },
  {
   "cell_type": "code",
   "execution_count": 57,
   "metadata": {},
   "outputs": [],
   "source": [
    "a3=a.find(\"div\",{\"class\":\"home-page-section-stories-wrapper\"})\n",
    "a4=a3.findAll(\"article\")\n",
    "for i in a4:\n",
    "    news.append(i.find(\"h3\").text)"
   ]
  },
  {
   "cell_type": "code",
   "execution_count": 58,
   "metadata": {},
   "outputs": [
    {
     "data": {
      "text/plain": [
       "[\"\\n\\t\\t\\t\\t\\t\\t\\t\\tChappelle on SNL: COVID-19 kept 'murderous whites' from mass shootings\\t\\t\\t\\t\\t\\t\\t\",\n",
       " '\\n\\t\\t\\t\\t\\t\\t\\t\\tGlum Trump returns to White House after golf outing amid loss to Biden\\t\\t\\t\\t\\t\\t\\t',\n",
       " \"\\n\\t\\t\\t\\t\\t\\t\\t\\tIt's Joe time! Biden declared president-elect after winning PA\\t\\t\\t\\t\\t\\t\\t\",\n",
       " \"\\n\\t\\t\\t\\t\\t\\t\\t\\t'This isn't over!': Trump supporters refuse to accept defeat\\t\\t\\t\\t\\t\\t\\t\",\n",
       " \"\\n\\t\\t\\t\\t\\t\\t\\t\\tUK's top military commander fears pandemic could spark third world war\\t\\t\\t\\t\\t\\t\\t\",\n",
       " '\\n\\t\\t\\t\\t\\t\\t\\t\\tMexican porn stars face charges for filming sex scenes in national park\\t\\t\\t\\t\\t\\t\\t',\n",
       " '\\n\\t\\t\\t\\t\\t\\t\\t\\tPopular Instagram model found dead after vanishing during Mexico trip\\t\\t\\t\\t\\t\\t\\t',\n",
       " \"\\n\\t\\t\\t\\t\\t\\t\\t\\tTrump's election recount plan will likely fail, experts say\\t\\t\\t\\t\\t\\t\\t\",\n",
       " \"\\n\\t\\t\\t\\t\\t\\t\\t\\tPresident-elect Joe Biden's transition website goes live\\t\\t\\t\\t\\t\\t\\t\"]"
      ]
     },
     "execution_count": 58,
     "metadata": {},
     "output_type": "execute_result"
    }
   ],
   "source": [
    "news"
   ]
  },
  {
   "cell_type": "code",
   "execution_count": 60,
   "metadata": {},
   "outputs": [],
   "source": [
    "sports=[]\n",
    "b=isoup.find(\"div\",{\"id\":\"sports-top-stories\"})\n",
    "b1=b.findAll(\"article\")\n",
    "for i in b1:\n",
    "    sports.append(i.find(\"h3\").text)"
   ]
  },
  {
   "cell_type": "code",
   "execution_count": 61,
   "metadata": {},
   "outputs": [
    {
     "data": {
      "text/plain": [
       "[\"\\n\\t\\t\\t\\t\\t\\t\\t\\tInside Giants' miserable decline\\t\\t\\t\\t\\t\\t\\t\",\n",
       " '\\n\\t\\t\\t\\t\\t\\t\\t\\tMets need to make things right with Carlos Beltran\\t\\t\\t\\t\\t\\t\\t',\n",
       " \"\\n\\t\\t\\t\\t\\t\\t\\t\\t'Betrayed' Trenton Thunder owner rips Yankees for abandoning team\\t\\t\\t\\t\\t\\t\\t\",\n",
       " \"\\n\\t\\t\\t\\t\\t\\t\\t\\tMets' front-office search is starting to heat up\\t\\t\\t\\t\\t\\t\\t\",\n",
       " '\\n\\t\\t\\t\\t\\t\\t\\t\\tNotre Dame beats No. 1 Clemson in 2 OTs\\t\\t\\t\\t\\t\\t\\t']"
      ]
     },
     "execution_count": 61,
     "metadata": {},
     "output_type": "execute_result"
    }
   ],
   "source": [
    "sports"
   ]
  },
  {
   "cell_type": "code",
   "execution_count": 64,
   "metadata": {},
   "outputs": [],
   "source": [
    "metro=[]\n",
    "c=isoup.find(\"div\",{\"id\":\"metro-top-stories\"})\n",
    "c1=c.findAll(\"article\")\n",
    "for i in c1:\n",
    "    metro.append(i.find(\"h3\").text)"
   ]
  },
  {
   "cell_type": "code",
   "execution_count": 65,
   "metadata": {},
   "outputs": [
    {
     "data": {
      "text/plain": [
       "[\"\\n\\t\\t\\t\\t\\t\\t\\t\\tThousands flock to Times Square to celebrate Joe Biden's victory\\t\\t\\t\\t\\t\\t\\t\",\n",
       " \"\\n\\t\\t\\t\\t\\t\\t\\t\\tGranny of transferred trooper to Cuomo: You can't veto love!\\t\\t\\t\\t\\t\\t\\t\",\n",
       " \"\\n\\t\\t\\t\\t\\t\\t\\t\\tCuomo celebrates Biden win after years of 'darkness, division and hate'\\t\\t\\t\\t\\t\\t\\t\",\n",
       " \"\\n\\t\\t\\t\\t\\t\\t\\t\\tFDNY calendar's Miss March sues city over 'jealous' female boss\\t\\t\\t\\t\\t\\t\\t\",\n",
       " '\\n\\t\\t\\t\\t\\t\\t\\t\\tNYPD searching for driver of white SUV who shot pedestrian\\t\\t\\t\\t\\t\\t\\t']"
      ]
     },
     "execution_count": 65,
     "metadata": {},
     "output_type": "execute_result"
    }
   ],
   "source": [
    "metro"
   ]
  },
  {
   "cell_type": "code",
   "execution_count": 66,
   "metadata": {},
   "outputs": [],
   "source": [
    "entertainment=[]\n",
    "d=isoup.find(\"div\",{\"id\":\"entertainment-top-stories\"})\n",
    "d1=d.findAll(\"article\")\n",
    "for i in d1:\n",
    "    entertainment.append(i.find(\"h3\").text)"
   ]
  },
  {
   "cell_type": "code",
   "execution_count": 67,
   "metadata": {},
   "outputs": [
    {
     "data": {
      "text/plain": [
       "[\"\\n\\t\\t\\t\\t\\t\\t\\t\\tChappelle on SNL: COVID-19 kept 'murderous whites' from mass shootings\\t\\t\\t\\t\\t\\t\\t\",\n",
       " \"\\n\\t\\t\\t\\t\\t\\t\\t\\tHere's how 'SNL' celebrated Joe Biden's win\\t\\t\\t\\t\\t\\t\\t\",\n",
       " \"\\n\\t\\t\\t\\t\\t\\t\\t\\tNow that Johnny Depp is out, end the 'Fantastic Beasts' series for good\\t\\t\\t\\t\\t\\t\\t\",\n",
       " \"\\n\\t\\t\\t\\t\\t\\t\\t\\tBTS' Suga recovering from surgery, fans send love with #GetWellSoonYoongi\\t\\t\\t\\t\\t\\t\\t\",\n",
       " \"\\n\\t\\t\\t\\t\\t\\t\\t\\tConnie Chung plays herself opposite Hugh Grant on 'The Undoing'\\t\\t\\t\\t\\t\\t\\t\"]"
      ]
     },
     "execution_count": 67,
     "metadata": {},
     "output_type": "execute_result"
    }
   ],
   "source": [
    "entertainment"
   ]
  },
  {
   "cell_type": "code",
   "execution_count": 68,
   "metadata": {},
   "outputs": [],
   "source": [
    "business=[]\n",
    "e=isoup.find(\"div\",{\"id\":\"business-top-stories\"})\n",
    "e1=e.findAll(\"article\")\n",
    "for i in e1:\n",
    "    business.append(i.find(\"h3\").text)"
   ]
  },
  {
   "cell_type": "code",
   "execution_count": 69,
   "metadata": {},
   "outputs": [
    {
     "data": {
      "text/plain": [
       "['\\n\\t\\t\\t\\t\\t\\t\\t\\tDVD rental chain Family Video makes last stand against COVID-19\\t\\t\\t\\t\\t\\t\\t',\n",
       " '\\n\\t\\t\\t\\t\\t\\t\\t\\tHershey profits soar as US binges on sweets during COVID-19 lockdowns\\t\\t\\t\\t\\t\\t\\t',\n",
       " '\\n\\t\\t\\t\\t\\t\\t\\t\\tCanadians irked as Whole Foods bans workers from wearing Remembrance Day poppies\\t\\t\\t\\t\\t\\t\\t',\n",
       " '\\n\\t\\t\\t\\t\\t\\t\\t\\tGrocery chains again limiting toilet paper, sanitizing wipes purchases\\t\\t\\t\\t\\t\\t\\t',\n",
       " '\\n\\t\\t\\t\\t\\t\\t\\t\\tBentley says it will make only electric cars by 2030\\t\\t\\t\\t\\t\\t\\t']"
      ]
     },
     "execution_count": 69,
     "metadata": {},
     "output_type": "execute_result"
    }
   ],
   "source": [
    "business"
   ]
  },
  {
   "cell_type": "code",
   "execution_count": 70,
   "metadata": {},
   "outputs": [],
   "source": [
    "opinion=[]\n",
    "f=isoup.find(\"div\",{\"id\":\"opinion-top-stories\"})\n",
    "f1=f.findAll(\"article\")\n",
    "for i in f1:\n",
    "    opinion.append(i.find(\"h3\").text)"
   ]
  },
  {
   "cell_type": "code",
   "execution_count": 71,
   "metadata": {},
   "outputs": [
    {
     "data": {
      "text/plain": [
       "[\"\\n\\t\\t\\t\\t\\t\\t\\t\\tPresident Trump, your legacy is secure — stop the 'stolen election' rhetoric\\t\\t\\t\\t\\t\\t\\t\",\n",
       " '\\n\\t\\t\\t\\t\\t\\t\\t\\tUnity with Trump supporters? OK, prove you mean it, Joe!: Goodwin\\t\\t\\t\\t\\t\\t\\t',\n",
       " '\\n\\t\\t\\t\\t\\t\\t\\t\\tCorporate relief that Democrats may not ‘own’ Congress\\t\\t\\t\\t\\t\\t\\t',\n",
       " '\\n\\t\\t\\t\\t\\t\\t\\t\\tWin or lose, Trump is here to stay\\t\\t\\t\\t\\t\\t\\t',\n",
       " '\\n\\t\\t\\t\\t\\t\\t\\t\\tWhat the pollsters got so wrong with 2020 election\\t\\t\\t\\t\\t\\t\\t']"
      ]
     },
     "execution_count": 71,
     "metadata": {},
     "output_type": "execute_result"
    }
   ],
   "source": [
    "opinion"
   ]
  },
  {
   "cell_type": "code",
   "execution_count": 72,
   "metadata": {},
   "outputs": [],
   "source": [
    "fashion=[]\n",
    "g=isoup.find(\"div\",{\"id\":\"fashion-top-stories\"})\n",
    "g1=g.findAll(\"article\")\n",
    "for i in g1:\n",
    "    fashion.append(i.find(\"h3\").text)"
   ]
  },
  {
   "cell_type": "code",
   "execution_count": 73,
   "metadata": {},
   "outputs": [
    {
     "data": {
      "text/plain": [
       "['\\n\\t\\t\\t\\t\\t\\t\\t\\tBebe Rexha shows off curves in Versace swimsuit, slams paparazzi pics\\t\\t\\t\\t\\t\\t\\t',\n",
       " \"\\n\\t\\t\\t\\t\\t\\t\\t\\tInside Jenna Lyons' life after J.Crew\\t\\t\\t\\t\\t\\t\\t\",\n",
       " \"\\n\\t\\t\\t\\t\\t\\t\\t\\tKim Kardashian's bondage-style Balenciaga Halloween costume confuses fans\\t\\t\\t\\t\\t\\t\\t\",\n",
       " '\\n\\t\\t\\t\\t\\t\\t\\t\\tOprah names celebrity-loved Telfar bag one of her 2020 Favorite Things\\t\\t\\t\\t\\t\\t\\t',\n",
       " \"\\n\\t\\t\\t\\t\\t\\t\\t\\tOlivia Culpo's sister wore her Miss Universe dress to prom\\t\\t\\t\\t\\t\\t\\t\"]"
      ]
     },
     "execution_count": 73,
     "metadata": {},
     "output_type": "execute_result"
    }
   ],
   "source": [
    "fashion"
   ]
  },
  {
   "cell_type": "code",
   "execution_count": 74,
   "metadata": {},
   "outputs": [],
   "source": [
    "shopping=[]\n",
    "h=isoup.find(\"div\",{\"id\":\"shopping-top-stories\"})\n",
    "h1=h.findAll(\"article\")\n",
    "for i in g1:\n",
    "    shopping.append(i.find(\"h3\").text)"
   ]
  },
  {
   "cell_type": "code",
   "execution_count": 75,
   "metadata": {},
   "outputs": [
    {
     "data": {
      "text/plain": [
       "['\\n\\t\\t\\t\\t\\t\\t\\t\\tBebe Rexha shows off curves in Versace swimsuit, slams paparazzi pics\\t\\t\\t\\t\\t\\t\\t',\n",
       " \"\\n\\t\\t\\t\\t\\t\\t\\t\\tInside Jenna Lyons' life after J.Crew\\t\\t\\t\\t\\t\\t\\t\",\n",
       " \"\\n\\t\\t\\t\\t\\t\\t\\t\\tKim Kardashian's bondage-style Balenciaga Halloween costume confuses fans\\t\\t\\t\\t\\t\\t\\t\",\n",
       " '\\n\\t\\t\\t\\t\\t\\t\\t\\tOprah names celebrity-loved Telfar bag one of her 2020 Favorite Things\\t\\t\\t\\t\\t\\t\\t',\n",
       " \"\\n\\t\\t\\t\\t\\t\\t\\t\\tOlivia Culpo's sister wore her Miss Universe dress to prom\\t\\t\\t\\t\\t\\t\\t\"]"
      ]
     },
     "execution_count": 75,
     "metadata": {},
     "output_type": "execute_result"
    }
   ],
   "source": [
    "shopping"
   ]
  },
  {
   "cell_type": "code",
   "execution_count": 76,
   "metadata": {},
   "outputs": [],
   "source": [
    "living=[]\n",
    "j=isoup.find(\"div\",{\"id\":\"living-top-stories\"})\n",
    "j1=j.findAll(\"article\")\n",
    "for i in g1:\n",
    "    living.append(i.find(\"h3\").text)"
   ]
  },
  {
   "cell_type": "code",
   "execution_count": 77,
   "metadata": {},
   "outputs": [
    {
     "data": {
      "text/plain": [
       "['\\n\\t\\t\\t\\t\\t\\t\\t\\tBebe Rexha shows off curves in Versace swimsuit, slams paparazzi pics\\t\\t\\t\\t\\t\\t\\t',\n",
       " \"\\n\\t\\t\\t\\t\\t\\t\\t\\tInside Jenna Lyons' life after J.Crew\\t\\t\\t\\t\\t\\t\\t\",\n",
       " \"\\n\\t\\t\\t\\t\\t\\t\\t\\tKim Kardashian's bondage-style Balenciaga Halloween costume confuses fans\\t\\t\\t\\t\\t\\t\\t\",\n",
       " '\\n\\t\\t\\t\\t\\t\\t\\t\\tOprah names celebrity-loved Telfar bag one of her 2020 Favorite Things\\t\\t\\t\\t\\t\\t\\t',\n",
       " \"\\n\\t\\t\\t\\t\\t\\t\\t\\tOlivia Culpo's sister wore her Miss Universe dress to prom\\t\\t\\t\\t\\t\\t\\t\"]"
      ]
     },
     "execution_count": 77,
     "metadata": {},
     "output_type": "execute_result"
    }
   ],
   "source": [
    "living"
   ]
  },
  {
   "cell_type": "code",
   "execution_count": 80,
   "metadata": {},
   "outputs": [],
   "source": [
    "real_estate=[]\n",
    "k=isoup.find(\"div\",{\"id\":\"real-estate-top-stories\"})\n",
    "k1=k.findAll(\"article\")\n",
    "for i in k1:\n",
    "    real_estate.append(i.find(\"h3\").text)"
   ]
  },
  {
   "cell_type": "code",
   "execution_count": 81,
   "metadata": {},
   "outputs": [
    {
     "data": {
      "text/plain": [
       "['\\n\\t\\t\\t\\t\\t\\t\\t\\tLondon flat with a replica of the Oval Office sells for $181M\\t\\t\\t\\t\\t\\t\\t',\n",
       " \"\\n\\t\\t\\t\\t\\t\\t\\t\\tBroadway producer's $45M penthouse encores with dramatic price chop\\t\\t\\t\\t\\t\\t\\t\",\n",
       " '\\n\\t\\t\\t\\t\\t\\t\\t\\tJeffrey Katzenberg downsizes home after $1.75B Quibi failure\\t\\t\\t\\t\\t\\t\\t',\n",
       " '\\n\\t\\t\\t\\t\\t\\t\\t\\t$45M West Village parking lot to become 5-story mansion\\t\\t\\t\\t\\t\\t\\t',\n",
       " '\\n\\t\\t\\t\\t\\t\\t\\t\\tJoe Pesci look-alike Mario Occhicone sells Sutton Place spread\\t\\t\\t\\t\\t\\t\\t']"
      ]
     },
     "execution_count": 81,
     "metadata": {},
     "output_type": "execute_result"
    }
   ],
   "source": [
    "real_estate"
   ]
  },
  {
   "cell_type": "code",
   "execution_count": 82,
   "metadata": {},
   "outputs": [],
   "source": [
    "tech=[]\n",
    "p=isoup.find(\"div\",{\"id\":\"tech-top-stories\"})\n",
    "p1=p.findAll(\"article\")\n",
    "for i in p1:\n",
    "    tech.append(i.find(\"h3\").text)"
   ]
  },
  {
   "cell_type": "code",
   "execution_count": 83,
   "metadata": {},
   "outputs": [
    {
     "data": {
      "text/plain": [
       "['\\n\\t\\t\\t\\t\\t\\t\\t\\tThere are 300 million planets that could support life: NASA\\t\\t\\t\\t\\t\\t\\t',\n",
       " '\\n\\t\\t\\t\\t\\t\\t\\t\\tVirgin Galactic plans first New Mexico space launch this month\\t\\t\\t\\t\\t\\t\\t',\n",
       " '\\n\\t\\t\\t\\t\\t\\t\\t\\tFacebook restricts election posts as it scrambles to curb misinformation\\t\\t\\t\\t\\t\\t\\t',\n",
       " '\\n\\t\\t\\t\\t\\t\\t\\t\\tVideo game sales are exploding because of COVID-19\\t\\t\\t\\t\\t\\t\\t',\n",
       " '\\n\\t\\t\\t\\t\\t\\t\\t\\tNASA wants help from companies to document its return to moon\\t\\t\\t\\t\\t\\t\\t']"
      ]
     },
     "execution_count": 83,
     "metadata": {},
     "output_type": "execute_result"
    }
   ],
   "source": [
    "tech"
   ]
  },
  {
   "cell_type": "code",
   "execution_count": 86,
   "metadata": {},
   "outputs": [],
   "source": [
    "media=[]\n",
    "m=isoup.find(\"div\",{\"id\":\"media-top-stories\"})\n",
    "m1=m.findAll(\"article\")\n",
    "for i in m1:\n",
    "    media.append(i.find(\"h3\").text)"
   ]
  },
  {
   "cell_type": "code",
   "execution_count": 87,
   "metadata": {},
   "outputs": [
    {
     "data": {
      "text/plain": [
       "['\\n\\t\\t\\t\\t\\t\\t\\t\\tAl Roker photographed walking to hospital after cancer reveal\\t\\t\\t\\t\\t\\t\\t',\n",
       " '\\n\\t\\t\\t\\t\\t\\t\\t\\tEx-ABC producer sues network for $10M in Amy Robach leaked Epstein tape scandal\\t\\t\\t\\t\\t\\t\\t',\n",
       " '\\n\\t\\t\\t\\t\\t\\t\\t\\tNews Corp stock surges on better-than-expected quarterly profits\\t\\t\\t\\t\\t\\t\\t',\n",
       " \"\\n\\t\\t\\t\\t\\t\\t\\t\\t'Breakfast Club' host Angela Yee makes big move into television\\t\\t\\t\\t\\t\\t\\t\",\n",
       " '\\n\\t\\t\\t\\t\\t\\t\\t\\tESPN laying off hundreds in massive pandemic-related cuts\\t\\t\\t\\t\\t\\t\\t']"
      ]
     },
     "execution_count": 87,
     "metadata": {},
     "output_type": "execute_result"
    }
   ],
   "source": [
    "media"
   ]
  },
  {
   "cell_type": "code",
   "execution_count": 90,
   "metadata": {},
   "outputs": [
    {
     "data": {
      "text/plain": [
       "['\\n\\t\\t\\t\\t\\t\\t\\t\\tAl Roker photographed walking to hospital after cancer reveal\\t\\t\\t\\t\\t\\t\\t',\n",
       " '\\n\\t\\t\\t\\t\\t\\t\\t\\tEx-ABC producer sues network for $10M in Amy Robach leaked Epstein tape scandal\\t\\t\\t\\t\\t\\t\\t',\n",
       " '\\n\\t\\t\\t\\t\\t\\t\\t\\tNews Corp stock surges on better-than-expected quarterly profits\\t\\t\\t\\t\\t\\t\\t',\n",
       " \"\\n\\t\\t\\t\\t\\t\\t\\t\\t'Breakfast Club' host Angela Yee makes big move into television\\t\\t\\t\\t\\t\\t\\t\",\n",
       " '\\n\\t\\t\\t\\t\\t\\t\\t\\tESPN laying off hundreds in massive pandemic-related cuts\\t\\t\\t\\t\\t\\t\\t',\n",
       " '\\n\\t\\t\\t\\t\\t\\t\\t\\tThere are 300 million planets that could support life: NASA\\t\\t\\t\\t\\t\\t\\t',\n",
       " '\\n\\t\\t\\t\\t\\t\\t\\t\\tVirgin Galactic plans first New Mexico space launch this month\\t\\t\\t\\t\\t\\t\\t',\n",
       " '\\n\\t\\t\\t\\t\\t\\t\\t\\tFacebook restricts election posts as it scrambles to curb misinformation\\t\\t\\t\\t\\t\\t\\t',\n",
       " '\\n\\t\\t\\t\\t\\t\\t\\t\\tVideo game sales are exploding because of COVID-19\\t\\t\\t\\t\\t\\t\\t',\n",
       " '\\n\\t\\t\\t\\t\\t\\t\\t\\tNASA wants help from companies to document its return to moon\\t\\t\\t\\t\\t\\t\\t']"
      ]
     },
     "execution_count": 90,
     "metadata": {},
     "output_type": "execute_result"
    }
   ],
   "source": [
    "media+tech+"
   ]
  },
  {
   "cell_type": "code",
   "execution_count": null,
   "metadata": {},
   "outputs": [],
   "source": []
  },
  {
   "cell_type": "code",
   "execution_count": null,
   "metadata": {},
   "outputs": [],
   "source": []
  },
  {
   "cell_type": "code",
   "execution_count": null,
   "metadata": {},
   "outputs": [],
   "source": []
  },
  {
   "cell_type": "code",
   "execution_count": null,
   "metadata": {},
   "outputs": [],
   "source": []
  }
 ],
 "metadata": {
  "kernelspec": {
   "display_name": "Python 3",
   "language": "python",
   "name": "python3"
  },
  "language_info": {
   "codemirror_mode": {
    "name": "ipython",
    "version": 3
   },
   "file_extension": ".py",
   "mimetype": "text/x-python",
   "name": "python",
   "nbconvert_exporter": "python",
   "pygments_lexer": "ipython3",
   "version": "3.7.4"
  }
 },
 "nbformat": 4,
 "nbformat_minor": 4
}
