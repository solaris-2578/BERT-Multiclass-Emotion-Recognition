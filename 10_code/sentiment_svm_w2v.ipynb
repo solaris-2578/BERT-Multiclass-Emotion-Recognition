{
 "cells": [
  {
   "cell_type": "code",
   "execution_count": 1,
   "metadata": {},
   "outputs": [],
   "source": [
    "import boto3\n",
    "import pandas as pd"
   ]
  },
  {
   "cell_type": "code",
   "execution_count": 2,
   "metadata": {},
   "outputs": [
    {
     "name": "stdout",
     "output_type": "stream",
     "text": [
      "(7666, 2)\n"
     ]
    }
   ],
   "source": [
    "s3 = boto3.resource(service_name='s3')\n",
    "obj = s3.Bucket('midstestbox').Object('ISEAR_clean.csv').get()\n",
    "df = pd.read_csv(obj['Body'], sep=\",\")\n",
    "\n",
    "df.dropna(inplace=True)\n",
    "\n",
    "print(df.shape)"
   ]
  },
  {
   "cell_type": "code",
   "execution_count": 3,
   "metadata": {},
   "outputs": [
    {
     "data": {
      "text/html": [
       "<div>\n",
       "<style scoped>\n",
       "    .dataframe tbody tr th:only-of-type {\n",
       "        vertical-align: middle;\n",
       "    }\n",
       "\n",
       "    .dataframe tbody tr th {\n",
       "        vertical-align: top;\n",
       "    }\n",
       "\n",
       "    .dataframe thead th {\n",
       "        text-align: right;\n",
       "    }\n",
       "</style>\n",
       "<table border=\"1\" class=\"dataframe\">\n",
       "  <thead>\n",
       "    <tr style=\"text-align: right;\">\n",
       "      <th></th>\n",
       "      <th>emotion</th>\n",
       "      <th>text</th>\n",
       "    </tr>\n",
       "  </thead>\n",
       "  <tbody>\n",
       "    <tr>\n",
       "      <th>0</th>\n",
       "      <td>joy</td>\n",
       "      <td>During the period of falling in love, each tim...</td>\n",
       "    </tr>\n",
       "    <tr>\n",
       "      <th>1</th>\n",
       "      <td>fear</td>\n",
       "      <td>When I was involved in a traffic accident.</td>\n",
       "    </tr>\n",
       "    <tr>\n",
       "      <th>2</th>\n",
       "      <td>anger</td>\n",
       "      <td>When I was driving home after  several days of...</td>\n",
       "    </tr>\n",
       "    <tr>\n",
       "      <th>3</th>\n",
       "      <td>sadness</td>\n",
       "      <td>When I lost the person who meant the most to me.</td>\n",
       "    </tr>\n",
       "    <tr>\n",
       "      <th>4</th>\n",
       "      <td>disgust</td>\n",
       "      <td>The time I knocked a deer down - the sight of ...</td>\n",
       "    </tr>\n",
       "  </tbody>\n",
       "</table>\n",
       "</div>"
      ],
      "text/plain": [
       "   emotion                                               text\n",
       "0      joy  During the period of falling in love, each tim...\n",
       "1     fear         When I was involved in a traffic accident.\n",
       "2    anger  When I was driving home after  several days of...\n",
       "3  sadness  When I lost the person who meant the most to me. \n",
       "4  disgust  The time I knocked a deer down - the sight of ..."
      ]
     },
     "execution_count": 3,
     "metadata": {},
     "output_type": "execute_result"
    }
   ],
   "source": [
    "df.head()"
   ]
  },
  {
   "cell_type": "code",
   "execution_count": 4,
   "metadata": {},
   "outputs": [
    {
     "data": {
      "text/plain": [
       "0    During the period of falling in love, each tim...\n",
       "1           When I was involved in a traffic accident.\n",
       "2    When I was driving home after  several days of...\n",
       "3    When I lost the person who meant the most to me. \n",
       "4    The time I knocked a deer down - the sight of ...\n",
       "Name: text, dtype: object"
      ]
     },
     "execution_count": 4,
     "metadata": {},
     "output_type": "execute_result"
    }
   ],
   "source": [
    "df[\"text\"].head()"
   ]
  },
  {
   "cell_type": "code",
   "execution_count": 5,
   "metadata": {},
   "outputs": [
    {
     "name": "stdout",
     "output_type": "stream",
     "text": [
      "Collecting gensim\n",
      "  Downloading gensim-3.8.3-cp36-cp36m-manylinux1_x86_64.whl (24.2 MB)\n",
      "\u001b[K     |████████████████████████████████| 24.2 MB 15.7 MB/s eta 0:00:01\n",
      "\u001b[?25hRequirement already satisfied: scipy>=0.18.1 in /home/ec2-user/anaconda3/envs/python3/lib/python3.6/site-packages (from gensim) (1.4.1)\n",
      "Requirement already satisfied: numpy>=1.11.3 in /home/ec2-user/anaconda3/envs/python3/lib/python3.6/site-packages (from gensim) (1.18.1)\n",
      "Collecting smart-open>=1.8.1\n",
      "  Downloading smart_open-3.0.0.tar.gz (113 kB)\n",
      "\u001b[K     |████████████████████████████████| 113 kB 68.7 MB/s eta 0:00:01\n",
      "\u001b[?25hRequirement already satisfied: six>=1.5.0 in /home/ec2-user/anaconda3/envs/python3/lib/python3.6/site-packages (from gensim) (1.14.0)\n",
      "Requirement already satisfied: requests in /home/ec2-user/anaconda3/envs/python3/lib/python3.6/site-packages (from smart-open>=1.8.1->gensim) (2.22.0)\n",
      "Requirement already satisfied: certifi>=2017.4.17 in /home/ec2-user/anaconda3/envs/python3/lib/python3.6/site-packages (from requests->smart-open>=1.8.1->gensim) (2020.6.20)\n",
      "Requirement already satisfied: chardet<3.1.0,>=3.0.2 in /home/ec2-user/anaconda3/envs/python3/lib/python3.6/site-packages (from requests->smart-open>=1.8.1->gensim) (3.0.4)\n",
      "Requirement already satisfied: idna<2.9,>=2.5 in /home/ec2-user/anaconda3/envs/python3/lib/python3.6/site-packages (from requests->smart-open>=1.8.1->gensim) (2.8)\n",
      "Requirement already satisfied: urllib3!=1.25.0,!=1.25.1,<1.26,>=1.21.1 in /home/ec2-user/anaconda3/envs/python3/lib/python3.6/site-packages (from requests->smart-open>=1.8.1->gensim) (1.25.10)\n",
      "Building wheels for collected packages: smart-open\n",
      "  Building wheel for smart-open (setup.py) ... \u001b[?25ldone\n",
      "\u001b[?25h  Created wheel for smart-open: filename=smart_open-3.0.0-py3-none-any.whl size=107097 sha256=45e8f5d4b09202e23b558b65a89d66ea2890c667f7e68e5ea79b8c41274254cf\n",
      "  Stored in directory: /home/ec2-user/.cache/pip/wheels/88/2a/d4/f2e9023989d4d4b3574f268657cb6cd23994665a038803f547\n",
      "Successfully built smart-open\n",
      "Installing collected packages: smart-open, gensim\n",
      "Successfully installed gensim-3.8.3 smart-open-3.0.0\n",
      "\u001b[33mWARNING: You are using pip version 20.0.2; however, version 20.2.4 is available.\n",
      "You should consider upgrading via the '/home/ec2-user/anaconda3/envs/python3/bin/python -m pip install --upgrade pip' command.\u001b[0m\n",
      "Note: you may need to restart the kernel to use updated packages.\n"
     ]
    }
   ],
   "source": [
    "pip install gensim"
   ]
  },
  {
   "cell_type": "code",
   "execution_count": 6,
   "metadata": {},
   "outputs": [],
   "source": [
    "import gensim\n",
    "from gensim.models import Word2Vec, word2vec"
   ]
  },
  {
   "cell_type": "code",
   "execution_count": 7,
   "metadata": {},
   "outputs": [
    {
     "data": {
      "text/plain": [
       "['When', 'I', 'involved', 'traffic', 'accident.']"
      ]
     },
     "execution_count": 7,
     "metadata": {},
     "output_type": "execute_result"
    }
   ],
   "source": [
    "from gensim.parsing.preprocessing import remove_stopwords\n",
    "\n",
    "sentences = [ remove_stopwords(x).split(\" \") for x in df[\"text\"]]\n",
    "\n",
    "sentences[1]"
   ]
  },
  {
   "cell_type": "code",
   "execution_count": 8,
   "metadata": {},
   "outputs": [],
   "source": [
    "#sentences = word2vec.Text8Corpus(obj['Body']) \n",
    "#sentences=word2vec.Text8Corpus()\n",
    "\n",
    "LATENT_FEATURE_SIZE = 50\n",
    "\n",
    "\n",
    "# load corpus \n",
    "model = Word2Vec(sentences, sg=1, size=LATENT_FEATURE_SIZE,  window=5,  min_count=5,  negative=3, sample=0.001, hs=1, workers=4) "
   ]
  },
  {
   "cell_type": "code",
   "execution_count": 9,
   "metadata": {},
   "outputs": [
    {
     "data": {
      "text/plain": [
       "[('successful', 0.8997143507003784),\n",
       " ('learnt', 0.8923747539520264),\n",
       " ('exam,', 0.8919605016708374),\n",
       " ('exams,', 0.8894598484039307),\n",
       " ('failed.', 0.8768682479858398)]"
      ]
     },
     "execution_count": 9,
     "metadata": {},
     "output_type": "execute_result"
    }
   ],
   "source": [
    "model.wv.similar_by_word('happy', topn =5)"
   ]
  },
  {
   "cell_type": "code",
   "execution_count": 10,
   "metadata": {},
   "outputs": [],
   "source": [
    "model.save(\"./ISEAR_w2v.model\")\n",
    "s3.Bucket('midstestbox').upload_file('./ISEAR_w2v.model', 'ISEAR_w2v.mode')"
   ]
  },
  {
   "cell_type": "code",
   "execution_count": 11,
   "metadata": {},
   "outputs": [],
   "source": [
    "import numpy as np\n",
    "\n",
    "\n",
    "def sentence_2_vec(sentence):\n",
    "    ''' \n",
    "    @para: sentence : vector of token list\n",
    "    '''\n",
    "    vec = np.zeros(LATENT_FEATURE_SIZE).reshape((1, LATENT_FEATURE_SIZE))\n",
    "    count = 0\n",
    "    for word in sentence:\n",
    "        try:\n",
    "            count += 1\n",
    "            vec += model[word].reshape((1, LATENT_FEATURE_SIZE))\n",
    "            # print(vec)\n",
    "        except KeyError:\n",
    "            continue\n",
    "    vec /= count\n",
    "\n",
    "    return vec[0]\n"
   ]
  },
  {
   "cell_type": "code",
   "execution_count": 12,
   "metadata": {},
   "outputs": [],
   "source": [
    "#print(sentence_2_vec(sentences[1]))\n",
    " "
   ]
  },
  {
   "cell_type": "code",
   "execution_count": 13,
   "metadata": {},
   "outputs": [
    {
     "name": "stderr",
     "output_type": "stream",
     "text": [
      "/home/ec2-user/anaconda3/envs/python3/lib/python3.6/site-packages/ipykernel/__main__.py:13: DeprecationWarning: Call to deprecated `__getitem__` (Method will be removed in 4.0.0, use self.wv.__getitem__() instead).\n"
     ]
    },
    {
     "name": "stdout",
     "output_type": "stream",
     "text": [
      "training size 5366\n",
      "testing size 2300\n"
     ]
    }
   ],
   "source": [
    "from sklearn.model_selection import train_test_split\n",
    "\n",
    "\n",
    "labels = df.emotion.factorize() \n",
    "labels_index = labels[1]\n",
    "df['emotion'] = labels[0]\n",
    "\n",
    "\n",
    "X_train, X_test, y_train, y_test = train_test_split(df.text, df.emotion, test_size=0.3, random_state=123, shuffle=True)\n",
    "\n",
    "X_train = [sentence_2_vec(x) for x in X_train]\n",
    "X_test  = [sentence_2_vec(x) for x in X_test]\n",
    "\n",
    "\n",
    "print(\"training size {}\".format(len(X_train)))\n",
    "print(\"testing size {}\".format(len(X_test)))"
   ]
  },
  {
   "cell_type": "code",
   "execution_count": 14,
   "metadata": {},
   "outputs": [],
   "source": [
    "#X_train[1]"
   ]
  },
  {
   "cell_type": "code",
   "execution_count": 15,
   "metadata": {},
   "outputs": [],
   "source": [
    "#y_train[:5]"
   ]
  },
  {
   "cell_type": "code",
   "execution_count": 16,
   "metadata": {},
   "outputs": [],
   "source": [
    "#X_train"
   ]
  },
  {
   "cell_type": "code",
   "execution_count": 18,
   "metadata": {},
   "outputs": [
    {
     "name": "stdout",
     "output_type": "stream",
     "text": [
      "              precision    recall  f1-score   support\n",
      "\n",
      "           0       0.27      0.15      0.19       322\n",
      "           1       0.16      0.12      0.14       315\n",
      "           2       0.22      0.37      0.28       337\n",
      "           3       0.25      0.20      0.22       310\n",
      "           4       0.16      0.06      0.09       339\n",
      "           5       0.16      0.02      0.03       338\n",
      "           6       0.19      0.51      0.28       339\n",
      "\n",
      "    accuracy                           0.21      2300\n",
      "   macro avg       0.20      0.20      0.17      2300\n",
      "weighted avg       0.20      0.21      0.17      2300\n",
      "\n"
     ]
    }
   ],
   "source": [
    "'''\n",
    "Method 1\n",
    "@kernel: RBF\n",
    "'''\n",
    "from sklearn import svm\n",
    "from sklearn.metrics import classification_report\n",
    "\n",
    "clf = svm.SVC() \n",
    "\n",
    "clf_res = clf.fit(X_train, y_train)\n",
    "test_pred = clf_res.predict(X_test)\n",
    "print(classification_report(y_test, test_pred))\n",
    "\n",
    "#clf.save(\"ISEAR_w2v_svm.clf\")"
   ]
  },
  {
   "cell_type": "code",
   "execution_count": 67,
   "metadata": {},
   "outputs": [
    {
     "name": "stdout",
     "output_type": "stream",
     "text": [
      "              precision    recall  f1-score   support\n",
      "\n",
      "           0       0.18      0.28      0.22       322\n",
      "           1       0.23      0.09      0.13       315\n",
      "           2       0.19      0.51      0.27       337\n",
      "           3       0.24      0.17      0.20       310\n",
      "           4       0.17      0.01      0.01       339\n",
      "           5       0.17      0.04      0.07       338\n",
      "           6       0.18      0.24      0.20       339\n",
      "\n",
      "    accuracy                           0.19      2300\n",
      "   macro avg       0.19      0.19      0.16      2300\n",
      "weighted avg       0.19      0.19      0.16      2300\n",
      "\n"
     ]
    }
   ],
   "source": [
    "'''\n",
    "Method 2\n",
    "@kernel: LinearSVC\n",
    "'''\n",
    "from sklearn.svm import LinearSVC\n",
    "\n",
    "\n",
    "clf = svm.LinearSVC() \n",
    "\n",
    "clf_res = clf.fit(X_train, y_train)\n",
    "test_pred = clf_res.predict(X_test)\n",
    "print(classification_report(y_test, test_pred))"
   ]
  },
  {
   "cell_type": "code",
   "execution_count": 68,
   "metadata": {},
   "outputs": [
    {
     "name": "stdout",
     "output_type": "stream",
     "text": [
      "              precision    recall  f1-score   support\n",
      "\n",
      "           0       0.15      0.21      0.18       322\n",
      "           1       0.12      0.13      0.12       315\n",
      "           2       0.17      0.15      0.16       337\n",
      "           3       0.17      0.22      0.19       310\n",
      "           4       0.15      0.12      0.13       339\n",
      "           5       0.15      0.13      0.14       338\n",
      "           6       0.25      0.17      0.20       339\n",
      "\n",
      "    accuracy                           0.16      2300\n",
      "   macro avg       0.17      0.16      0.16      2300\n",
      "weighted avg       0.17      0.16      0.16      2300\n",
      "\n"
     ]
    }
   ],
   "source": [
    "'''\n",
    "Method 3\n",
    "@kernel: DecisionTreeClassifier\n",
    "'''\n",
    "from sklearn.tree import DecisionTreeClassifier\n",
    "\n",
    "clf = DecisionTreeClassifier() \n",
    "\n",
    "clf_res = clf.fit(X_train, y_train)\n",
    "test_pred = clf_res.predict(X_test)\n",
    "print(classification_report(y_test, test_pred))"
   ]
  },
  {
   "cell_type": "code",
   "execution_count": null,
   "metadata": {},
   "outputs": [],
   "source": []
  }
 ],
 "metadata": {
  "kernelspec": {
   "display_name": "conda_python3",
   "language": "python",
   "name": "conda_python3"
  },
  "language_info": {
   "codemirror_mode": {
    "name": "ipython",
    "version": 3
   },
   "file_extension": ".py",
   "mimetype": "text/x-python",
   "name": "python",
   "nbconvert_exporter": "python",
   "pygments_lexer": "ipython3",
   "version": "3.6.10"
  }
 },
 "nbformat": 4,
 "nbformat_minor": 4
}
